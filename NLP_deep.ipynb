{
  "nbformat": 4,
  "nbformat_minor": 0,
  "metadata": {
    "colab": {
      "name": "NLP_deep.ipynb",
      "provenance": [],
      "collapsed_sections": [],
      "toc_visible": true,
      "authorship_tag": "ABX9TyOmshlRQTR7Rfm2/qcSHleS",
      "include_colab_link": true
    },
    "kernelspec": {
      "name": "python3",
      "display_name": "Python 3"
    }
  },
  "cells": [
    {
      "cell_type": "markdown",
      "metadata": {
        "id": "view-in-github",
        "colab_type": "text"
      },
      "source": [
        "<a href=\"https://colab.research.google.com/github/avijayant/SentimentClassificationExploration/blob/master/NLP_deep.ipynb\" target=\"_parent\"><img src=\"https://colab.research.google.com/assets/colab-badge.svg\" alt=\"Open In Colab\"/></a>"
      ]
    },
    {
      "cell_type": "code",
      "metadata": {
        "id": "_ZZ_CoMnPmZ0",
        "colab_type": "code",
        "outputId": "741d13f6-3320-43cd-c5a4-1942c3830319",
        "colab": {
          "base_uri": "https://localhost:8080/",
          "height": 211
        }
      },
      "source": [
        "!wget https://archive.ics.uci.edu/ml/machine-learning-databases/00331/sentiment%20labelled%20sentences.zip\n"
      ],
      "execution_count": 0,
      "outputs": [
        {
          "output_type": "stream",
          "text": [
            "--2020-03-23 20:56:39--  https://archive.ics.uci.edu/ml/machine-learning-databases/00331/sentiment%20labelled%20sentences.zip\n",
            "Resolving archive.ics.uci.edu (archive.ics.uci.edu)... 128.195.10.252\n",
            "Connecting to archive.ics.uci.edu (archive.ics.uci.edu)|128.195.10.252|:443... connected.\n",
            "HTTP request sent, awaiting response... 200 OK\n",
            "Length: 84188 (82K) [application/x-httpd-php]\n",
            "Saving to: ‘sentiment labelled sentences.zip’\n",
            "\n",
            "sentiment labelled  100%[===================>]  82.21K  --.-KB/s    in 0.1s    \n",
            "\n",
            "2020-03-23 20:56:40 (648 KB/s) - ‘sentiment labelled sentences.zip’ saved [84188/84188]\n",
            "\n"
          ],
          "name": "stdout"
        }
      ]
    },
    {
      "cell_type": "code",
      "metadata": {
        "id": "6cqnRs85QcQ8",
        "colab_type": "code",
        "outputId": "debe489a-c7e9-4a59-efa4-582472e17ccd",
        "colab": {
          "base_uri": "https://localhost:8080/",
          "height": 281
        }
      },
      "source": [
        "from zipfile import ZipFile\n",
        "file_name = \"sentiment labelled sentences.zip\"\n",
        "with ZipFile(file_name, 'r') as zip: \n",
        "    # printing all the contents of the zip file \n",
        "    zip.printdir() \n",
        "  \n",
        "    # extracting all the files \n",
        "    print('Extracting all the files now...') \n",
        "    zip.extractall() \n",
        "    print('Done!') "
      ],
      "execution_count": 0,
      "outputs": [
        {
          "output_type": "stream",
          "text": [
            "File Name                                             Modified             Size\n",
            "sentiment labelled sentences/                  2016-07-05 11:32:30            0\n",
            "sentiment labelled sentences/.DS_Store         2016-07-05 11:32:34         6148\n",
            "__MACOSX/                                      2016-07-05 11:39:00            0\n",
            "__MACOSX/sentiment labelled sentences/         2016-07-05 11:39:00            0\n",
            "__MACOSX/sentiment labelled sentences/._.DS_Store 2016-07-05 11:32:34          212\n",
            "sentiment labelled sentences/amazon_cells_labelled.txt 2016-07-05 11:30:22        58226\n",
            "sentiment labelled sentences/imdb_labelled.txt 2015-02-14 16:11:16        85285\n",
            "__MACOSX/sentiment labelled sentences/._imdb_labelled.txt 2015-02-14 16:11:16          212\n",
            "sentiment labelled sentences/readme.txt        2015-05-30 17:29:46         1070\n",
            "__MACOSX/sentiment labelled sentences/._readme.txt 2015-05-30 17:29:46          212\n",
            "sentiment labelled sentences/yelp_labelled.txt 2016-07-05 11:27:32        61320\n",
            "__MACOSX/._sentiment labelled sentences        2016-07-05 11:32:30          212\n",
            "Extracting all the files now...\n",
            "Done!\n"
          ],
          "name": "stdout"
        }
      ]
    },
    {
      "cell_type": "code",
      "metadata": {
        "id": "hQYvizcIS8a3",
        "colab_type": "code",
        "colab": {}
      },
      "source": [
        "import pandas as pd\n",
        "import os"
      ],
      "execution_count": 0,
      "outputs": []
    },
    {
      "cell_type": "code",
      "metadata": {
        "id": "q3YDcNTHQ6DS",
        "colab_type": "code",
        "outputId": "707508c7-99d6-40c8-9ec9-7e9d47e80515",
        "colab": {
          "base_uri": "https://localhost:8080/",
          "height": 35
        }
      },
      "source": [
        "print(os.listdir('sentiment_datasets'))\n",
        "#Read the datasets\n",
        "yelp_data_full = pd.read_csv('sentiment_datasets/yelp_labelled.txt',sep='\\t', header=None,names=['Sentence','Label'])\n",
        "amazon_data_full = pd.read_csv('sentiment_datasets/amazon_cells_labelled.txt',sep='\\t', header=None,names=['Sentence','Label'])\n",
        "imdb_data_full = pd.read_csv('sentiment_datasets/imdb_labelled.txt',sep='\\t', header=None,names=['Sentence','Label'])\n",
        "yelp_data_full.loc[:,'Source']='Yelp'\n",
        "amazon_data_full.loc[:,'Source']='Amazon'\n",
        "imdb_data_full.loc[:,'Source']='IMDB'"
      ],
      "execution_count": 0,
      "outputs": [
        {
          "output_type": "stream",
          "text": [
            "['.DS_Store', 'imdb_labelled.txt', 'amazon_cells_labelled.txt', 'readme.txt', 'yelp_labelled.txt']\n"
          ],
          "name": "stdout"
        }
      ]
    },
    {
      "cell_type": "code",
      "metadata": {
        "id": "8hpKcj1ORtMC",
        "colab_type": "code",
        "colab": {}
      },
      "source": [
        "all_data = pd.concat([yelp_data_full, amazon_data_full, imdb_data_full])"
      ],
      "execution_count": 0,
      "outputs": []
    },
    {
      "cell_type": "code",
      "metadata": {
        "id": "dG1iUfqi65BO",
        "colab_type": "code",
        "colab": {}
      },
      "source": [
        "#first let's do a baseline model for only the yelp data\n",
        "from sklearn.model_selection import train_test_split\n",
        "\n",
        "x = yelp_data_full['Sentence']\n",
        "y = yelp_data_full['Label']\n",
        "\n",
        "x_train, x_test, y_train, y_test = train_test_split(x, y, test_size = 0.25, random_state = 1000)\n",
        "\n",
        "validation_count = int(0.25 * len(x_train))\n",
        "x_validation = x_train[-validation_count:]\n",
        "y_validation = y_train[-validation_count:]\n",
        "x_train = x_train[:len(x_train)-validation_count]\n",
        "y_train = y_train[:len(y_train)-validation_count]\n"
      ],
      "execution_count": 0,
      "outputs": []
    },
    {
      "cell_type": "code",
      "metadata": {
        "id": "-6dGhneENuby",
        "colab_type": "code",
        "outputId": "cadf945a-c973-49d0-f02a-b50626c8b13d",
        "colab": {
          "base_uri": "https://localhost:8080/",
          "height": 52
        }
      },
      "source": [
        "import re\n",
        "import nltk\n",
        "nltk.download('stopwords')\n",
        "from nltk.corpus import stopwords\n",
        "REPLACE_BY_SPACE_RE = re.compile('[/(){}\\[\\]\\|@,;]')\n",
        "BAD_SYMBOLS_RE = re.compile('[^0-9a-z #+_]')\n",
        "\n",
        "STOPWORDS = set(stopwords.words('english'))\n",
        "#Try lemmatization\n",
        "def text_prepare(text):\n",
        "    \"\"\"\n",
        "        text: a string\n",
        "        \n",
        "        return: modified initial string\n",
        "    \"\"\"\n",
        "    text = text.lower()# lowercase text\n",
        "    text = re.sub(REPLACE_BY_SPACE_RE,\" \",text)# replace REPLACE_BY_SPACE_RE symbols by space in text\n",
        "    text = re.sub(BAD_SYMBOLS_RE,\"\",text)# delete symbols which are in BAD_SYMBOLS_RE from text\n",
        "    #not removing stop words -- will remove not etc\n",
        "    #text = ' '.join([word for word in text.split() if word not in STOPWORDS])\n",
        "    return text"
      ],
      "execution_count": 0,
      "outputs": [
        {
          "output_type": "stream",
          "text": [
            "[nltk_data] Downloading package stopwords to /root/nltk_data...\n",
            "[nltk_data]   Unzipping corpora/stopwords.zip.\n"
          ],
          "name": "stdout"
        }
      ]
    },
    {
      "cell_type": "code",
      "metadata": {
        "id": "5TJ-8tkDUyIr",
        "colab_type": "code",
        "outputId": "c09c4a05-c4d7-44ec-fe2a-81e84c29a677",
        "colab": {
          "base_uri": "https://localhost:8080/",
          "height": 52
        }
      },
      "source": [
        "#sum([len(line.split(\" \")) for line in x_validation])\n",
        "print(len(x_train),len(x_validation), len(x_test))\n",
        "print(len(y_train), len(y_validation), len(y_test))"
      ],
      "execution_count": 0,
      "outputs": [
        {
          "output_type": "stream",
          "text": [
            "563 187 250\n",
            "563 187 250\n"
          ],
          "name": "stdout"
        }
      ]
    },
    {
      "cell_type": "code",
      "metadata": {
        "id": "LwAYxThCRwCw",
        "colab_type": "code",
        "colab": {}
      },
      "source": [
        "x_train = [text_prepare(line) for line in x_train]\n",
        "x_test = [text_prepare(line) for line in x_test]\n",
        "x_validation = [text_prepare(line) for line in x_validation]\n",
        "from sklearn.feature_extraction.text import CountVectorizer\n",
        "bow_vectorizer = CountVectorizer(max_df = 0.9, min_df = 2)\n",
        "bow_vectorizer.fit(x_train)\n",
        "x_train_t = bow_vectorizer.transform(x_train)\n",
        "x_validation_t = bow_vectorizer.transform(x_validation)\n",
        "x_test_t = bow_vectorizer.transform(x_test)"
      ],
      "execution_count": 0,
      "outputs": []
    },
    {
      "cell_type": "code",
      "metadata": {
        "id": "e1b2KDdlXOSP",
        "colab_type": "code",
        "outputId": "47cff1bc-e8ad-4328-9b01-c98a1cb73913",
        "colab": {
          "base_uri": "https://localhost:8080/",
          "height": 35
        }
      },
      "source": [
        "from sklearn.linear_model import LogisticRegression\n",
        "classifier = LogisticRegression()\n",
        "classifier.fit(x_train_t, y_train)\n",
        "score = classifier.score(x_validation_t, y_validation)\n",
        "print(\"Validation set accuracy : \",score)"
      ],
      "execution_count": 0,
      "outputs": [
        {
          "output_type": "stream",
          "text": [
            "Validation set accuracy :  0.786096256684492\n"
          ],
          "name": "stdout"
        }
      ]
    },
    {
      "cell_type": "code",
      "metadata": {
        "id": "6aeOLXCpbQve",
        "colab_type": "code",
        "colab": {}
      },
      "source": [
        "index_to_words = dict([(v,k) for k, v in bow_vectorizer.vocabulary_.items()])"
      ],
      "execution_count": 0,
      "outputs": []
    },
    {
      "cell_type": "code",
      "metadata": {
        "id": "ZWgR0priasmb",
        "colab_type": "code",
        "outputId": "ae0eb2f9-5a67-46b1-db57-0217498b6ae2",
        "colab": {
          "base_uri": "https://localhost:8080/",
          "height": 87
        }
      },
      "source": [
        "#Let's look at the most important words for positives\n",
        "print('Most positive words:')\n",
        "print([index_to_words[idx] for idx in classifier.coef_.argsort().tolist()[0][-5:]])\n",
        "#Let's look at the most important words for negatives\n",
        "print('Most negative words')\n",
        "print([index_to_words[idx] for idx in classifier.coef_.argsort().tolist()[0][:5]])"
      ],
      "execution_count": 0,
      "outputs": [
        {
          "output_type": "stream",
          "text": [
            "Most positive words:\n",
            "['amazing', 'awesome', 'good', 'delicious', 'great']\n",
            "Most negative words\n",
            "['not', 'bad', 'wasnt', 'much', 'dont']\n"
          ],
          "name": "stdout"
        }
      ]
    },
    {
      "cell_type": "code",
      "metadata": {
        "id": "iK8BODXZF0Uv",
        "colab_type": "code",
        "outputId": "5294b18e-6bb8-4b3b-c78a-cb36af5f50e9",
        "colab": {
          "base_uri": "https://localhost:8080/",
          "height": 373
        }
      },
      "source": [
        "import matplotlib.pyplot as plt\n",
        "wordindices = classifier.coef_.argsort().tolist()[0][-5:][::-1]\n",
        "wordindices.extend(classifier.coef_.argsort().tolist()[0][:5][::-1])\n",
        "words = [index_to_words[idx] for idx in wordindices]\n",
        "coefficients = [classifier.coef_[0][idx] for idx in wordindices]\n",
        "print(words, coefficients)\n",
        "plt.figure(figsize=(12, 5))\n",
        "plt.barh(words, coefficients, align='center', alpha=0.5)\n",
        "plt.xticks(coefficients, coefficients)\n",
        "plt.ylabel('Weight')\n",
        "plt.title('Most positive and negative words')\n",
        "\n",
        "plt.show()"
      ],
      "execution_count": 0,
      "outputs": [
        {
          "output_type": "stream",
          "text": [
            "['great', 'delicious', 'good', 'awesome', 'amazing', 'dont', 'much', 'wasnt', 'bad', 'not'] [2.3198942924046486, 1.7208905521475193, 1.5240109997875961, 1.3544940588780845, 1.2704917005999963, -1.1524666104124401, -1.1708451203628825, -1.2709336442117154, -1.3987644036275597, -2.005140745681257]\n"
          ],
          "name": "stdout"
        },
        {
          "output_type": "display_data",
          "data": {
            "image/png": "[encoded data removed]",
            "text/plain": [
              "<Figure size 864x360 with 1 Axes>"
            ]
          },
          "metadata": {
            "tags": []
          }
        }
      ]
    },
    {
      "cell_type": "code",
      "metadata": {
        "id": "cM9ag_zgb1z-",
        "colab_type": "code",
        "outputId": "da923481-d71b-4e63-ab64-62609cacc584",
        "colab": {
          "base_uri": "https://localhost:8080/",
          "height": 35
        }
      },
      "source": [
        "#Let's look at this model's performance on our test set\n",
        "score = classifier.score(x_test_t, y_test)\n",
        "print(\"Test set accuracy : \",score)"
      ],
      "execution_count": 0,
      "outputs": [
        {
          "output_type": "stream",
          "text": [
            "Test set accuracy :  0.784\n"
          ],
          "name": "stdout"
        }
      ]
    },
    {
      "cell_type": "code",
      "metadata": {
        "id": "Chd9sQePirBT",
        "colab_type": "code",
        "outputId": "6f23f307-517b-4720-9e28-9eef91b6c045",
        "colab": {
          "base_uri": "https://localhost:8080/",
          "height": 35
        }
      },
      "source": [
        "#Lets make a svm based classifiers on the same features\n",
        "from sklearn.svm import SVC\n",
        "from sklearn.preprocessing import StandardScaler\n",
        "svClassifier = SVC(C=0.7)\n",
        "scaler = StandardScaler(with_mean=False)\n",
        "scaler.fit(x_train_t)\n",
        "x_train_ts = scaler.transform(x_train_t)\n",
        "x_validation_ts = scaler.transform(x_validation_t)\n",
        "x_test_ts = scaler.transform(x_test_t)\n",
        "\n",
        "svClassifier.fit(x_train_ts, y_train)\n",
        "score = classifier.score(x_validation_ts, y_validation)\n",
        "print(\"Validation set accuracy : \",score)"
      ],
      "execution_count": 0,
      "outputs": [
        {
          "output_type": "stream",
          "text": [
            "Validation set accuracy :  0.7700534759358288\n"
          ],
          "name": "stdout"
        }
      ]
    },
    {
      "cell_type": "code",
      "metadata": {
        "id": "dy3BAaUTlycm",
        "colab_type": "code",
        "outputId": "24087f94-d52d-41eb-815c-6b2bad274488",
        "colab": {
          "base_uri": "https://localhost:8080/",
          "height": 35
        }
      },
      "source": [
        "#Let's look at this model's performance on our test set\n",
        "score = svClassifier.score(x_test_ts, y_test)\n",
        "print(\"Test set accuracy : \",score)"
      ],
      "execution_count": 0,
      "outputs": [
        {
          "output_type": "stream",
          "text": [
            "Test set accuracy :  0.684\n"
          ],
          "name": "stdout"
        }
      ]
    },
    {
      "cell_type": "code",
      "metadata": {
        "id": "Y2zDngHYoiwH",
        "colab_type": "code",
        "outputId": "50b80f83-d6cb-4a5a-f91e-0bb969fabd38",
        "colab": {
          "base_uri": "https://localhost:8080/",
          "height": 35
        }
      },
      "source": [
        "#let's make a tfidf vectorizer\n",
        "from sklearn.feature_extraction.text import TfidfVectorizer\n",
        "tfidf_vectorizer = TfidfVectorizer(max_df = 0.9, min_df = 2)\n",
        "tfidf_vectorizer.fit(x_train)\n",
        "x_train_t = tfidf_vectorizer.transform(x_train)\n",
        "x_validation_t = tfidf_vectorizer.transform(x_validation)\n",
        "x_test_t = tfidf_vectorizer.transform(x_test)\n",
        "classifier = LogisticRegression()\n",
        "classifier.fit(x_train_t, y_train)\n",
        "score = classifier.score(x_validation_t, y_validation)\n",
        "print(\"Validation set accuracy : \",score)"
      ],
      "execution_count": 0,
      "outputs": [
        {
          "output_type": "stream",
          "text": [
            "Validation set accuracy :  0.8074866310160428\n"
          ],
          "name": "stdout"
        }
      ]
    },
    {
      "cell_type": "code",
      "metadata": {
        "id": "kXw-YESypD-9",
        "colab_type": "code",
        "outputId": "b8a920e6-e61f-4c94-86fa-f09fedf04457",
        "colab": {
          "base_uri": "https://localhost:8080/",
          "height": 35
        }
      },
      "source": [
        "#Let's look at this model's performance on our test set\n",
        "score = classifier.score(x_test_t, y_test)\n",
        "print(\"Test set accuracy : \",score)"
      ],
      "execution_count": 0,
      "outputs": [
        {
          "output_type": "stream",
          "text": [
            "Test set accuracy :  0.768\n"
          ],
          "name": "stdout"
        }
      ]
    },
    {
      "cell_type": "markdown",
      "metadata": {
        "id": "eRz8Pvtxprzq",
        "colab_type": "text"
      },
      "source": [
        "So now we have some pretty good benchmarks for the yelp data\n",
        "Let's see if we can beat them with our CNN model from the paper by YoonKim \n",
        "Old paper so nto expecting a lot of improvement\n",
        "But gotta try"
      ]
    },
    {
      "cell_type": "markdown",
      "metadata": {
        "id": "hVtNKam-rbnP",
        "colab_type": "text"
      },
      "source": [
        "First let us try to simply replace the classifier with a mlp. \n",
        "\n",
        "We will try a num_features to 10 to 1 MLP"
      ]
    },
    {
      "cell_type": "code",
      "metadata": {
        "id": "hL6_Hh6ur66C",
        "colab_type": "code",
        "outputId": "eed8f3a8-bd69-4ccd-a3ae-8ef57e0e1c4f",
        "colab": {
          "base_uri": "https://localhost:8080/",
          "height": 35
        }
      },
      "source": [
        "import numpy as np\n",
        "len(x_train_t[0].toarray()[0])\n",
        "print(583*10 + 10 + 10 + 1)"
      ],
      "execution_count": 0,
      "outputs": [
        {
          "output_type": "stream",
          "text": [
            "5851\n"
          ],
          "name": "stdout"
        }
      ]
    },
    {
      "cell_type": "code",
      "metadata": {
        "id": "GyGBgZc5pvr7",
        "colab_type": "code",
        "colab": {}
      },
      "source": [
        "from keras.models import Sequential\n",
        "from keras import layers\n",
        "num_features = np.shape(x_train_t)[1]\n",
        "model = Sequential()\n",
        "#first layer, input is the features, output is 10\n",
        "model.add(layers.Dense(10, input_dim=num_features, activation='relu'))\n",
        "#second layer output is 1. Sigmoid because this is a binary classification task(multiclass classification can use softmax)\n",
        "model.add(layers.Dense(1, activation = 'sigmoid'))"
      ],
      "execution_count": 0,
      "outputs": []
    },
    {
      "cell_type": "code",
      "metadata": {
        "id": "hSNgJ8irup_L",
        "colab_type": "code",
        "colab": {}
      },
      "source": [
        "model.compile(loss='binary_crossentropy', optimizer='adam', metrics=['accuracy'])"
      ],
      "execution_count": 0,
      "outputs": []
    },
    {
      "cell_type": "code",
      "metadata": {
        "id": "ZPwH6cogvayf",
        "colab_type": "code",
        "outputId": "a7ddce10-59da-45c6-f92a-d47faa7e4f2e",
        "colab": {
          "base_uri": "https://localhost:8080/",
          "height": 228
        }
      },
      "source": [
        "model.summary()"
      ],
      "execution_count": 0,
      "outputs": [
        {
          "output_type": "stream",
          "text": [
            "Model: \"sequential_2\"\n",
            "_________________________________________________________________\n",
            "Layer (type)                 Output Shape              Param #   \n",
            "=================================================================\n",
            "dense_3 (Dense)              (None, 10)                5840      \n",
            "_________________________________________________________________\n",
            "dense_4 (Dense)              (None, 1)                 11        \n",
            "=================================================================\n",
            "Total params: 5,851\n",
            "Trainable params: 5,851\n",
            "Non-trainable params: 0\n",
            "_________________________________________________________________\n"
          ],
          "name": "stdout"
        }
      ]
    },
    {
      "cell_type": "code",
      "metadata": {
        "id": "MLAx4tUiv-f8",
        "colab_type": "code",
        "colab": {}
      },
      "source": [
        "history = model.fit(x_train_t, y_train,epochs=25,verbose=False,validation_data=(x_validation_t, y_validation),batch_size=50)"
      ],
      "execution_count": 0,
      "outputs": []
    },
    {
      "cell_type": "code",
      "metadata": {
        "id": "0ZEXktaAwp9F",
        "colab_type": "code",
        "outputId": "599f819e-1c6e-451a-86b4-4be7a124f4ed",
        "colab": {
          "base_uri": "https://localhost:8080/",
          "height": 52
        }
      },
      "source": [
        "loss, accuracy = model.evaluate(x_train_t, y_train, verbose=False)\n",
        "print(\"Training set accuracy : \", accuracy)\n",
        "loss, accuracy = model.evaluate(x_validation_t, y_validation, verbose=False)\n",
        "print(\"Validation set accuracy : \", accuracy)"
      ],
      "execution_count": 0,
      "outputs": [
        {
          "output_type": "stream",
          "text": [
            "Training set accuracy :  0.9502664305812301\n",
            "Validation set accuracy :  0.7647058864965796\n"
          ],
          "name": "stdout"
        }
      ]
    },
    {
      "cell_type": "code",
      "metadata": {
        "id": "4PirLGBqxYmA",
        "colab_type": "code",
        "colab": {}
      },
      "source": [
        "plt.style.use('ggplot')\n",
        "\n",
        "def plot_history(history):\n",
        "    acc = history.history['acc']\n",
        "    val_acc = history.history['val_acc']\n",
        "    loss = history.history['loss']\n",
        "    val_loss = history.history['val_loss']\n",
        "    x = range(1, len(acc) + 1)\n",
        "\n",
        "    plt.figure(figsize=(12, 5))\n",
        "    plt.subplot(1, 2, 1)\n",
        "    plt.plot(x, acc, 'b', label='Training acc')\n",
        "    plt.plot(x, val_acc, 'r', label='Validation acc')\n",
        "    plt.title('Training and validation accuracy')\n",
        "    plt.legend()\n",
        "    plt.subplot(1, 2, 2)\n",
        "    plt.plot(x, loss, 'b', label='Training loss')\n",
        "    plt.plot(x, val_loss, 'r', label='Validation loss')\n",
        "    plt.title('Training and validation loss')\n",
        "    plt.legend()"
      ],
      "execution_count": 0,
      "outputs": []
    },
    {
      "cell_type": "code",
      "metadata": {
        "id": "20kepXgdxg6x",
        "colab_type": "code",
        "outputId": "eba29f49-54bf-495f-ad49-191d49346dbf",
        "colab": {
          "base_uri": "https://localhost:8080/",
          "height": 337
        }
      },
      "source": [
        "plot_history(history)"
      ],
      "execution_count": 0,
      "outputs": [
        {
          "output_type": "display_data",
          "data": {
            "image/png": "[encoded data removed]",
            "text/plain": [
              "<Figure size 864x360 with 2 Axes>"
            ]
          },
          "metadata": {
            "tags": []
          }
        }
      ]
    },
    {
      "cell_type": "code",
      "metadata": {
        "id": "ViRAk37myIxB",
        "colab_type": "code",
        "outputId": "a8a731c9-9e07-4320-bf7e-be57dddf0638",
        "colab": {
          "base_uri": "https://localhost:8080/",
          "height": 35
        }
      },
      "source": [
        "loss, accuracy = model.evaluate(x_test_t, y_test, verbose=False)\n",
        "print(\"Test set accuracy : \", accuracy)"
      ],
      "execution_count": 0,
      "outputs": [
        {
          "output_type": "stream",
          "text": [
            "Test set accuracy :  0.7600000009536744\n"
          ],
          "name": "stdout"
        }
      ]
    },
    {
      "cell_type": "markdown",
      "metadata": {
        "id": "ILV1yuvm1Rmn",
        "colab_type": "text"
      },
      "source": [
        "Okay, so we have something close to but not as good as the classic classifiers. Now we will get the word2vec embeddings. \n",
        "\n",
        "Plan\n",
        "\n",
        "1. Sum the word2vec embeddings for a sentence and feed to LR\n",
        "2. TFIDF weight sum embeddings and feed to LR\n",
        "3. Word2Vec embeddings followed by YoonKim CNN solution"
      ]
    },
    {
      "cell_type": "code",
      "metadata": {
        "id": "ucpBAY5d5MoN",
        "colab_type": "code",
        "colab": {}
      },
      "source": [
        "#We will use pretrained word2vec\n",
        "import gensim\n",
        "w2vEmbeddings = gensim.models.KeyedVectors.load_word2vec_format('GoogleNews-vectors-negative300.bin.gz',binary=True)\n",
        "\n",
        "\n",
        "dir(w2vEmbeddings)"
      ],
      "execution_count": 0,
      "outputs": []
    },
    {
      "cell_type": "code",
      "metadata": {
        "id": "Au-jBjOd8wpG",
        "colab_type": "code",
        "outputId": "0d76236c-be09-4627-fc02-166aaafa38de",
        "colab": {
          "base_uri": "https://localhost:8080/",
          "height": 211
        }
      },
      "source": [
        "#!wget https://github.com/mmihaltz/word2vec-GoogleNews-vectors/blob/master/GoogleNews-vectors-negative300.bin.gz"
      ],
      "execution_count": 0,
      "outputs": [
        {
          "output_type": "stream",
          "text": [
            "--2020-03-23 06:01:23--  https://github.com/mmihaltz/word2vec-GoogleNews-vectors/blob/master/GoogleNews-vectors-negative300.bin.gz\n",
            "Resolving github.com (github.com)... 192.30.255.113\n",
            "Connecting to github.com (github.com)|192.30.255.113|:443... connected.\n",
            "HTTP request sent, awaiting response... 200 OK\n",
            "Length: unspecified [text/html]\n",
            "Saving to: ‘GoogleNews-vectors-negative300.bin.gz’\n",
            "\n",
            "\r          GoogleNew     [<=>                 ]       0  --.-KB/s               \rGoogleNews-vectors-     [ <=>                ]  67.60K  --.-KB/s    in 0.02s   \n",
            "\n",
            "2020-03-23 06:01:23 (4.00 MB/s) - ‘GoogleNews-vectors-negative300.bin.gz’ saved [69220]\n",
            "\n"
          ],
          "name": "stdout"
        }
      ]
    },
    {
      "cell_type": "code",
      "metadata": {
        "id": "XRX_0t_19kqU",
        "colab_type": "code",
        "colab": {}
      },
      "source": [
        "import gzip\n",
        "import shutil\n",
        "\n",
        "def gunzip_shutil(source_filepath, dest_filepath, block_size=65536):\n",
        "    with gzip.open(source_filepath, 'rb') as s_file, \\\n",
        "            open(dest_filepath, 'wb') as d_file:\n",
        "        shutil.copyfileobj(s_file, d_file, block_size)"
      ],
      "execution_count": 0,
      "outputs": []
    },
    {
      "cell_type": "code",
      "metadata": {
        "id": "ApasO5jzKiZr",
        "colab_type": "code",
        "colab": {}
      },
      "source": [
        "def transform_into_densevectors_sumall(line, w2vModel):\n",
        "  words = line.split(\" \")\n",
        "  denseVector = np.zeros(300)\n",
        "  for word in words:\n",
        "    if word in w2vModel.vocab:\n",
        "      denseVector = denseVector+w2vModel[word]\n",
        "  return denseVector\n",
        "\n",
        "x_train_twv = [transform_into_densevectors_sumall(line, w2vEmbeddings) for line in x_train]\n",
        "x_validation_twv = [transform_into_densevectors_sumall(line, w2vEmbeddings) for line in x_validation]\n",
        "x_test_twv = [transform_into_densevectors_sumall(line, w2vEmbeddings) for line in x_test]\n",
        "\n"
      ],
      "execution_count": 0,
      "outputs": []
    },
    {
      "cell_type": "code",
      "metadata": {
        "id": "_UHekNCuMTil",
        "colab_type": "code",
        "outputId": "65e9ad69-6373-48bb-9264-2f1012125033",
        "colab": {
          "base_uri": "https://localhost:8080/",
          "height": 35
        }
      },
      "source": [
        "classifier = LogisticRegression()\n",
        "classifier.fit(x_train_twv, y_train)\n",
        "score = classifier.score(x_validation_twv, y_validation)\n",
        "print(\"Validation set accuracy : \",score)"
      ],
      "execution_count": 0,
      "outputs": [
        {
          "output_type": "stream",
          "text": [
            "Validation set accuracy :  0.8449197860962567\n"
          ],
          "name": "stdout"
        }
      ]
    },
    {
      "cell_type": "code",
      "metadata": {
        "id": "ANJ-nB6JNdff",
        "colab_type": "code",
        "outputId": "8dc20a62-b360-4e6f-d43f-85866ed3de07",
        "colab": {
          "base_uri": "https://localhost:8080/",
          "height": 52
        }
      },
      "source": [
        "score = classifier.score(x_test_twv, y_test)\n",
        "print(\"Test set accuracy : \",score)\n",
        "print(x_test[59],classifier.predict([x_test_twv[59]]))"
      ],
      "execution_count": 0,
      "outputs": [
        {
          "output_type": "stream",
          "text": [
            "Test set accuracy :  0.76\n",
            "please stay away from the shrimp stir fried noodles [0]\n"
          ],
          "name": "stdout"
        }
      ]
    },
    {
      "cell_type": "markdown",
      "metadata": {
        "id": "yYmszRPEPO4V",
        "colab_type": "text"
      },
      "source": [
        "Now we need to get into the CNN networks to capture bigram/tri gram like ideas"
      ]
    },
    {
      "cell_type": "code",
      "metadata": {
        "id": "gkT41r4SPWei",
        "colab_type": "code",
        "colab": {
          "base_uri": "https://localhost:8080/",
          "height": 132
        },
        "outputId": "c2086174-7111-4477-ca51-7ec8addcac5f"
      },
      "source": [
        "#First we need to seed an embedding layer with word2vec embeddings\n",
        "#We want to use the extrinsic knowledge already present in word2vec \n",
        "#first we need to convert all our input examples (ie reviews) to the same length \n",
        "#The embedding layer needs each example to be in integer encoding as well as of the same length\n",
        "#we can do this using keras tokenizer\n",
        "#if number of words is large or if we are considering bigrams etc we can use the hashing trick\n",
        "#Also we need the length of each of the reviews to be the same so we will use keras built in pad_sequences\n",
        "from keras.preprocessing.text import Tokenizer\n",
        "from keras.preprocessing.sequence import pad_sequences\n",
        "t=Tokenizer()\n",
        "t.fit_on_texts(x_train)\n",
        "vocab_size = len(t.word_index) + 1\n",
        "x_train_encoded = t.texts_to_sequences(x_train)\n",
        "x_validation_encoded = t.texts_to_sequences(x_validation)\n",
        "x_test_encoded = t.texts_to_sequences(x_test)\n",
        "max_length = max([len(sentence) for sentence in x_train_encoded])\n",
        "x_train_padded = pad_sequences(x_train_encoded, maxlen=max_length, padding='post')\n",
        "x_validation_padded = pad_sequences(x_validation_encoded, maxlen=max_length, padding='post')\n",
        "x_test_padded = pad_sequences(x_test_encoded, maxlen=max_length, padding='post')\n",
        "#starting embeddings\n",
        "embeddings={}\n",
        "for word in t.word_index.keys():\n",
        "  if word in w2vEmbeddings:\n",
        "    embeddings[word] = w2vEmbeddings[word]\n",
        "\n"
      ],
      "execution_count": 36,
      "outputs": [
        {
          "output_type": "error",
          "ename": "SyntaxError",
          "evalue": "ignored",
          "traceback": [
            "\u001b[0;36m  File \u001b[0;32m\"<ipython-input-36-aa56c4333fc5>\"\u001b[0;36m, line \u001b[0;32m11\u001b[0m\n\u001b[0;31m    if word in modw2vEmbeddings:\u001b[0m\n\u001b[0m                                ^\u001b[0m\n\u001b[0;31mSyntaxError\u001b[0m\u001b[0;31m:\u001b[0m unexpected EOF while parsing\n"
          ]
        }
      ]
    },
    {
      "cell_type": "code",
      "metadata": {
        "id": "uTo_Aetc5eCu",
        "colab_type": "code",
        "colab": {}
      },
      "source": [
        "#Now let's make the model\n",
        "#we cannot make it sequential style as it is multichannel (we make 3 parallel convolute+maxpool and then concatenate them to make our final features)\n",
        "nfilters = 100\n",
        "filter_sizes = (2, 3, 4)#bigram, trigram, 4-gram\n",
        "model_input = Input(shape=(max_length,))\n",
        "# model = Sequential()\n",
        "z = layers.Embedding(vocab_size, 300, input_length=max_length,weights=[embeddings], trainable=True, name='EmbedLayer')(model_input)\n",
        "z = layers.Dropout(0.1)(z)\n",
        "conv_list = []\n",
        "for size in filter_sizes:\n",
        "  conv = layers.Conv1D(nfilters,\n",
        "                  size,\n",
        "                  padding='valid',\n",
        "                  activation='relu',\n",
        "                  strides=1)\n",
        "  conv = layers.GlobalMaxPooling1D()(conv)\n",
        "  #each convolution becomes 1 point due to global max pooling\n",
        "  conv = layers.Flatten()(conv)\n",
        "  # so we flatten into 1 row, 100 column vector\n",
        "  conv_list.append(conv)\n",
        "\n",
        "z = Concatenate()(conv_list) if len(conv_blocks) > 1 else conv_blocks[0]\n",
        "z = Dropout(0.1)(z)\n",
        "#Now we have a 300 feature vector for each sentence\n",
        "#Lets put it into a hidden layer and then into an output layer\n",
        "z = Dense(100, activation=\"relu\")(z)\n",
        "model_output = Dense(1, activation=\"sigmoid\")(z)\n",
        "\n",
        "model = Model(model_input, model_output)\n",
        "model.compile(loss=\"binary_crossentropy\", optimizer=\"adam\", metrics=[\"accuracy\"])\n",
        "\n",
        "\n",
        "  \n",
        "\n"
      ],
      "execution_count": 0,
      "outputs": []
    },
    {
      "cell_type": "code",
      "metadata": {
        "id": "mINFphKp5Ioi",
        "colab_type": "code",
        "colab": {}
      },
      "source": [
        "history = model.fit(x_train_padded, y_train,epochs=25,verbose=False,validation_data=(x_validation_padded, y_validation),batch_size=50)"
      ],
      "execution_count": 0,
      "outputs": []
    }
  ]
}