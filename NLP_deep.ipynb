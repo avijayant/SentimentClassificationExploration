{
  "nbformat": 4,
  "nbformat_minor": 0,
  "metadata": {
    "colab": {
      "name": "NLP_deep.ipynb",
      "provenance": [],
      "collapsed_sections": [],
      "authorship_tag": "ABX9TyOi/3eNlccMT8HqADl3KcVo",
      "include_colab_link": true
    },
    "kernelspec": {
      "name": "python3",
      "display_name": "Python 3"
    }
  },
  "cells": [
    {
      "cell_type": "markdown",
      "metadata": {
        "id": "view-in-github",
        "colab_type": "text"
      },
      "source": [
        "<a href=\"https://colab.research.google.com/github/avijayant/SentimentClassificationExploration/blob/master/NLP_deep.ipynb\" target=\"_parent\"><img src=\"https://colab.research.google.com/assets/colab-badge.svg\" alt=\"Open In Colab\"/></a>"
      ]
    },
    {
      "cell_type": "code",
      "metadata": {
        "id": "_ZZ_CoMnPmZ0",
        "colab_type": "code",
        "outputId": "6814854e-5185-448d-acbb-b9e088f00d4c",
        "colab": {
          "base_uri": "https://localhost:8080/",
          "height": 211
        }
      },
      "source": [
        "!wget https://archive.ics.uci.edu/ml/machine-learning-databases/00331/sentiment%20labelled%20sentences.zip\n"
      ],
      "execution_count": 1,
      "outputs": [
        {
          "output_type": "stream",
          "text": [
            "--2020-03-23 01:03:15--  https://archive.ics.uci.edu/ml/machine-learning-databases/00331/sentiment%20labelled%20sentences.zip\n",
            "Resolving archive.ics.uci.edu (archive.ics.uci.edu)... 128.195.10.252\n",
            "Connecting to archive.ics.uci.edu (archive.ics.uci.edu)|128.195.10.252|:443... connected.\n",
            "HTTP request sent, awaiting response... 200 OK\n",
            "Length: 84188 (82K) [application/x-httpd-php]\n",
            "Saving to: ‘sentiment labelled sentences.zip’\n",
            "\n",
            "\r          sentiment   0%[                    ]       0  --.-KB/s               \rsentiment labelled  100%[===================>]  82.21K  --.-KB/s    in 0.06s   \n",
            "\n",
            "2020-03-23 01:03:15 (1.28 MB/s) - ‘sentiment labelled sentences.zip’ saved [84188/84188]\n",
            "\n"
          ],
          "name": "stdout"
        }
      ]
    },
    {
      "cell_type": "code",
      "metadata": {
        "id": "6cqnRs85QcQ8",
        "colab_type": "code",
        "outputId": "09ed52a3-cfc9-4a8d-9867-881eb42b3a55",
        "colab": {
          "base_uri": "https://localhost:8080/",
          "height": 281
        }
      },
      "source": [
        "from zipfile import ZipFile\n",
        "file_name = \"sentiment labelled sentences.zip\"\n",
        "with ZipFile(file_name, 'r') as zip: \n",
        "    # printing all the contents of the zip file \n",
        "    zip.printdir() \n",
        "  \n",
        "    # extracting all the files \n",
        "    print('Extracting all the files now...') \n",
        "    zip.extractall() \n",
        "    print('Done!') "
      ],
      "execution_count": 2,
      "outputs": [
        {
          "output_type": "stream",
          "text": [
            "File Name                                             Modified             Size\n",
            "sentiment labelled sentences/                  2016-07-05 11:32:30            0\n",
            "sentiment labelled sentences/.DS_Store         2016-07-05 11:32:34         6148\n",
            "__MACOSX/                                      2016-07-05 11:39:00            0\n",
            "__MACOSX/sentiment labelled sentences/         2016-07-05 11:39:00            0\n",
            "__MACOSX/sentiment labelled sentences/._.DS_Store 2016-07-05 11:32:34          212\n",
            "sentiment labelled sentences/amazon_cells_labelled.txt 2016-07-05 11:30:22        58226\n",
            "sentiment labelled sentences/imdb_labelled.txt 2015-02-14 16:11:16        85285\n",
            "__MACOSX/sentiment labelled sentences/._imdb_labelled.txt 2015-02-14 16:11:16          212\n",
            "sentiment labelled sentences/readme.txt        2015-05-30 17:29:46         1070\n",
            "__MACOSX/sentiment labelled sentences/._readme.txt 2015-05-30 17:29:46          212\n",
            "sentiment labelled sentences/yelp_labelled.txt 2016-07-05 11:27:32        61320\n",
            "__MACOSX/._sentiment labelled sentences        2016-07-05 11:32:30          212\n",
            "Extracting all the files now...\n",
            "Done!\n"
          ],
          "name": "stdout"
        }
      ]
    },
    {
      "cell_type": "code",
      "metadata": {
        "id": "hQYvizcIS8a3",
        "colab_type": "code",
        "colab": {}
      },
      "source": [
        "import pandas as pd\n",
        "import os"
      ],
      "execution_count": 0,
      "outputs": []
    },
    {
      "cell_type": "code",
      "metadata": {
        "id": "q3YDcNTHQ6DS",
        "colab_type": "code",
        "outputId": "a4b331c7-a656-43bd-90d4-bb2b03e426fb",
        "colab": {
          "base_uri": "https://localhost:8080/",
          "height": 35
        }
      },
      "source": [
        "print(os.listdir('sentiment_datasets'))\n",
        "#Read the datasets\n",
        "yelp_data_full = pd.read_csv('sentiment_datasets/yelp_labelled.txt',sep='\\t', header=None,names=['Sentence','Label'])\n",
        "amazon_data_full = pd.read_csv('sentiment_datasets/amazon_cells_labelled.txt',sep='\\t', header=None,names=['Sentence','Label'])\n",
        "imdb_data_full = pd.read_csv('sentiment_datasets/imdb_labelled.txt',sep='\\t', header=None,names=['Sentence','Label'])\n",
        "yelp_data_full.loc[:,'Source']='Yelp'\n",
        "amazon_data_full.loc[:,'Source']='Amazon'\n",
        "imdb_data_full.loc[:,'Source']='IMDB'"
      ],
      "execution_count": 15,
      "outputs": [
        {
          "output_type": "stream",
          "text": [
            "['readme.txt', 'amazon_cells_labelled.txt', 'imdb_labelled.txt', '.DS_Store', 'yelp_labelled.txt']\n"
          ],
          "name": "stdout"
        }
      ]
    },
    {
      "cell_type": "code",
      "metadata": {
        "id": "8hpKcj1ORtMC",
        "colab_type": "code",
        "colab": {}
      },
      "source": [
        "all_data = pd.concat([yelp_data_full, amazon_data_full, imdb_data_full])"
      ],
      "execution_count": 0,
      "outputs": []
    },
    {
      "cell_type": "code",
      "metadata": {
        "id": "dG1iUfqi65BO",
        "colab_type": "code",
        "colab": {}
      },
      "source": [
        "#first let's do a baseline model for only the yelp data\n",
        "from sklearn.model_selection import train_test_split\n",
        "\n",
        "x = yelp_data_full['Sentence']\n",
        "y = yelp_data_full['Label']\n",
        "\n",
        "x_train, x_test, y_train, y_test = train_test_split(x, y, test_size = 0.25, random_state = 1000)\n",
        "\n",
        "validation_count = int(0.25 * len(x_train))\n",
        "x_validation = x_train[-validation_count:]\n",
        "y_validation = y_train[-validation_count:]\n",
        "x_train = x_train[:len(x_train)-validation_count]\n",
        "y_train = y_train[:len(y_train)-validation_count]\n"
      ],
      "execution_count": 0,
      "outputs": []
    },
    {
      "cell_type": "code",
      "metadata": {
        "id": "-6dGhneENuby",
        "colab_type": "code",
        "colab": {
          "base_uri": "https://localhost:8080/",
          "height": 52
        },
        "outputId": "85f86fdc-3105-4723-ee65-54a700ae5f0e"
      },
      "source": [
        "import re\n",
        "import nltk\n",
        "nltk.download('stopwords')\n",
        "from nltk.corpus import stopwords\n",
        "REPLACE_BY_SPACE_RE = re.compile('[/(){}\\[\\]\\|@,;]')\n",
        "BAD_SYMBOLS_RE = re.compile('[^0-9a-z #+_]')\n",
        "\n",
        "STOPWORDS = set(stopwords.words('english'))\n",
        "#Try lemmatization\n",
        "def text_prepare(text):\n",
        "    \"\"\"\n",
        "        text: a string\n",
        "        \n",
        "        return: modified initial string\n",
        "    \"\"\"\n",
        "    text = text.lower()# lowercase text\n",
        "    text = re.sub(REPLACE_BY_SPACE_RE,\" \",text)# replace REPLACE_BY_SPACE_RE symbols by space in text\n",
        "    text = re.sub(BAD_SYMBOLS_RE,\"\",text)# delete symbols which are in BAD_SYMBOLS_RE from text\n",
        "    #not removing stop words -- will remove not etc\n",
        "    #text = ' '.join([word for word in text.split() if word not in STOPWORDS])\n",
        "    return text"
      ],
      "execution_count": 39,
      "outputs": [
        {
          "output_type": "stream",
          "text": [
            "[nltk_data] Downloading package stopwords to /root/nltk_data...\n",
            "[nltk_data]   Package stopwords is already up-to-date!\n"
          ],
          "name": "stdout"
        }
      ]
    },
    {
      "cell_type": "code",
      "metadata": {
        "id": "5TJ-8tkDUyIr",
        "colab_type": "code",
        "colab": {
          "base_uri": "https://localhost:8080/",
          "height": 52
        },
        "outputId": "2143719e-9b40-4812-8a87-3e0d0b240142"
      },
      "source": [
        "#sum([len(line.split(\" \")) for line in x_validation])\n",
        "print(len(x_train),len(x_validation), len(x_test))\n",
        "len(y_train), len(y_validation), len(y_test)"
      ],
      "execution_count": 120,
      "outputs": [
        {
          "output_type": "stream",
          "text": [
            "563 187 250\n"
          ],
          "name": "stdout"
        },
        {
          "output_type": "execute_result",
          "data": {
            "text/plain": [
              "(563, 187, 250)"
            ]
          },
          "metadata": {
            "tags": []
          },
          "execution_count": 120
        }
      ]
    },
    {
      "cell_type": "code",
      "metadata": {
        "id": "LwAYxThCRwCw",
        "colab_type": "code",
        "colab": {}
      },
      "source": [
        "x_train = [text_prepare(line) for line in x_train]\n",
        "x_test = [text_prepare(line) for line in x_test]\n",
        "x_validation = [text_prepare(line) for line in x_validation]\n",
        "from sklearn.feature_extraction.text import CountVectorizer\n",
        "bow_vectorizer = CountVectorizer(max_df = 0.9, min_df = 2)\n",
        "bow_vectorizer.fit(x_train)\n",
        "x_train_t = bow_vectorizer.transform(x_train)\n",
        "x_validation_t = bow_vectorizer.transform(x_validation)\n",
        "x_test_t = bow_vectorizer.transform(x_test)"
      ],
      "execution_count": 0,
      "outputs": []
    },
    {
      "cell_type": "code",
      "metadata": {
        "id": "e1b2KDdlXOSP",
        "colab_type": "code",
        "colab": {
          "base_uri": "https://localhost:8080/",
          "height": 35
        },
        "outputId": "9c3a3231-5fb1-481e-da1b-ee0fe4e822cc"
      },
      "source": [
        "from sklearn.linear_model import LogisticRegression\n",
        "classifier = LogisticRegression()\n",
        "classifier.fit(x_train_t, y_train)\n",
        "score = classifier.score(x_validation_t, y_validation)\n",
        "print(\"Validation set accuracy : \",score)"
      ],
      "execution_count": 122,
      "outputs": [
        {
          "output_type": "stream",
          "text": [
            "Validation set accuracy :  0.786096256684492\n"
          ],
          "name": "stdout"
        }
      ]
    },
    {
      "cell_type": "code",
      "metadata": {
        "id": "6aeOLXCpbQve",
        "colab_type": "code",
        "colab": {}
      },
      "source": [
        "index_to_words = dict([(v,k) for k, v in bow_vectorizer.vocabulary_.items()])"
      ],
      "execution_count": 0,
      "outputs": []
    },
    {
      "cell_type": "code",
      "metadata": {
        "id": "ZWgR0priasmb",
        "colab_type": "code",
        "colab": {
          "base_uri": "https://localhost:8080/",
          "height": 87
        },
        "outputId": "1a00dd55-dd35-4cfb-f322-99531e06c148"
      },
      "source": [
        "#Let's look at the most important words for positives\n",
        "print('Most positive words:')\n",
        "print([index_to_words[idx] for idx in classifier.coef_.argsort().tolist()[0][-5:]])\n",
        "#Let's look at the most important words for negatives\n",
        "print('Most negative words')\n",
        "print([index_to_words[idx] for idx in classifier.coef_.argsort().tolist()[0][:5]])"
      ],
      "execution_count": 124,
      "outputs": [
        {
          "output_type": "stream",
          "text": [
            "Most positive words:\n",
            "['amazing', 'awesome', 'good', 'delicious', 'great']\n",
            "Most negative words\n",
            "['not', 'bad', 'wasnt', 'much', 'dont']\n"
          ],
          "name": "stdout"
        }
      ]
    },
    {
      "cell_type": "code",
      "metadata": {
        "id": "cM9ag_zgb1z-",
        "colab_type": "code",
        "colab": {
          "base_uri": "https://localhost:8080/",
          "height": 35
        },
        "outputId": "ce9a3c3c-fe6d-4298-c42d-462e2993d467"
      },
      "source": [
        "#Let's look at this model's performance on our test set\n",
        "score = classifier.score(x_test_t, y_test)\n",
        "print(\"Test set accuracy : \",score)"
      ],
      "execution_count": 125,
      "outputs": [
        {
          "output_type": "stream",
          "text": [
            "Test set accuracy :  0.784\n"
          ],
          "name": "stdout"
        }
      ]
    },
    {
      "cell_type": "code",
      "metadata": {
        "id": "Chd9sQePirBT",
        "colab_type": "code",
        "colab": {
          "base_uri": "https://localhost:8080/",
          "height": 35
        },
        "outputId": "a45b24d7-4368-4410-b446-cbd09f1c74ab"
      },
      "source": [
        "#Lets make a svm based classifiers on the same features\n",
        "from sklearn.svm import SVC\n",
        "from sklearn.preprocessing import StandardScaler\n",
        "svClassifier = SVC(C=0.7)\n",
        "scaler = StandardScaler(with_mean=False)\n",
        "scaler.fit(x_train_t)\n",
        "x_train_ts = scaler.transform(x_train_t)\n",
        "x_validation_ts = scaler.transform(x_validation_t)\n",
        "x_test_ts = scaler.transform(x_test_t)\n",
        "\n",
        "svClassifier.fit(x_train_ts, y_train)\n",
        "score = classifier.score(x_validation_ts, y_validation)\n",
        "print(\"Validation set accuracy : \",score)"
      ],
      "execution_count": 137,
      "outputs": [
        {
          "output_type": "stream",
          "text": [
            "Validation set accuracy :  0.7700534759358288\n"
          ],
          "name": "stdout"
        }
      ]
    },
    {
      "cell_type": "code",
      "metadata": {
        "id": "dy3BAaUTlycm",
        "colab_type": "code",
        "colab": {
          "base_uri": "https://localhost:8080/",
          "height": 35
        },
        "outputId": "0c10a2bc-62bd-424d-fab7-681383007b6a"
      },
      "source": [
        "#Let's look at this model's performance on our test set\n",
        "score = svClassifier.score(x_test_ts, y_test)\n",
        "print(\"Test set accuracy : \",score)"
      ],
      "execution_count": 138,
      "outputs": [
        {
          "output_type": "stream",
          "text": [
            "Test set accuracy :  0.684\n"
          ],
          "name": "stdout"
        }
      ]
    },
    {
      "cell_type": "code",
      "metadata": {
        "id": "Y2zDngHYoiwH",
        "colab_type": "code",
        "colab": {
          "base_uri": "https://localhost:8080/",
          "height": 35
        },
        "outputId": "bd858cb6-4430-490b-b7f6-d14a924f3338"
      },
      "source": [
        "#let's make a tfidf vectorizer\n",
        "from sklearn.feature_extraction.text import TfidfVectorizer\n",
        "tfidf_vectorizer = TfidfVectorizer(max_df = 0.9, min_df = 2)\n",
        "tfidf_vectorizer.fit(x_train)\n",
        "x_train_t = tfidf_vectorizer.transform(x_train)\n",
        "x_validation_t = tfidf_vectorizer.transform(x_validation)\n",
        "x_test_t = tfidf_vectorizer.transform(x_test)\n",
        "classifier = LogisticRegression()\n",
        "classifier.fit(x_train_t, y_train)\n",
        "score = classifier.score(x_validation_t, y_validation)\n",
        "print(\"Validation set accuracy : \",score)"
      ],
      "execution_count": 151,
      "outputs": [
        {
          "output_type": "stream",
          "text": [
            "Validation set accuracy :  0.8074866310160428\n"
          ],
          "name": "stdout"
        }
      ]
    },
    {
      "cell_type": "code",
      "metadata": {
        "id": "kXw-YESypD-9",
        "colab_type": "code",
        "colab": {
          "base_uri": "https://localhost:8080/",
          "height": 35
        },
        "outputId": "337ace34-8f08-4491-a646-2c8d82e40fd8"
      },
      "source": [
        "#Let's look at this model's performance on our test set\n",
        "score = classifier.score(x_test_t, y_test)\n",
        "print(\"Test set accuracy : \",score)"
      ],
      "execution_count": 143,
      "outputs": [
        {
          "output_type": "stream",
          "text": [
            "Test set accuracy :  0.788\n"
          ],
          "name": "stdout"
        }
      ]
    },
    {
      "cell_type": "markdown",
      "metadata": {
        "id": "eRz8Pvtxprzq",
        "colab_type": "text"
      },
      "source": [
        "So now we have some pretty good benchmarks for the yelp data\n",
        "Let's see if we can beat them with our CNN model from the paper by YoonKim \n",
        "Old paper so nto expecting a lot of improvement\n",
        "But gotta try"
      ]
    },
    {
      "cell_type": "markdown",
      "metadata": {
        "id": "hVtNKam-rbnP",
        "colab_type": "text"
      },
      "source": [
        "First let us try to simply replace the classifier with a mlp. \n",
        "\n",
        "We will try a num_features to 10 to 1 MLP"
      ]
    },
    {
      "cell_type": "code",
      "metadata": {
        "id": "hL6_Hh6ur66C",
        "colab_type": "code",
        "colab": {
          "base_uri": "https://localhost:8080/",
          "height": 35
        },
        "outputId": "d3571b05-3f37-4515-daf6-2f80a576e253"
      },
      "source": [
        "import numpy as np\n",
        "len(x_train_t[0].toarray()[0])\n",
        "print(583*10 + 10 + 10 + 1)"
      ],
      "execution_count": 161,
      "outputs": [
        {
          "output_type": "stream",
          "text": [
            "5851\n"
          ],
          "name": "stdout"
        }
      ]
    },
    {
      "cell_type": "code",
      "metadata": {
        "id": "GyGBgZc5pvr7",
        "colab_type": "code",
        "colab": {}
      },
      "source": [
        "from keras.models import Sequential\n",
        "from keras import layers\n",
        "num_features = np.shape(x_train_t)[1]\n",
        "model = Sequential()\n",
        "#first layer, input is the features, output is 10\n",
        "model.add(layers.Dense(10, input_dim=num_features, activation='relu'))\n",
        "#second layer output is 1. Sigmoid because this is a binary classification task(multiclass classification can use softmax)\n",
        "model.add(layers.Dense(1, activation = 'sigmoid'))"
      ],
      "execution_count": 0,
      "outputs": []
    },
    {
      "cell_type": "code",
      "metadata": {
        "id": "hSNgJ8irup_L",
        "colab_type": "code",
        "colab": {}
      },
      "source": [
        "model.compile(loss='binary_crossentropy', optimizer='adam', metrics=['accuracy'])"
      ],
      "execution_count": 0,
      "outputs": []
    },
    {
      "cell_type": "code",
      "metadata": {
        "id": "ZPwH6cogvayf",
        "colab_type": "code",
        "colab": {
          "base_uri": "https://localhost:8080/",
          "height": 228
        },
        "outputId": "cceebf10-a7b0-42d6-a1a3-3c2f1dbc429f"
      },
      "source": [
        "model.summary()"
      ],
      "execution_count": 212,
      "outputs": [
        {
          "output_type": "stream",
          "text": [
            "Model: \"sequential_8\"\n",
            "_________________________________________________________________\n",
            "Layer (type)                 Output Shape              Param #   \n",
            "=================================================================\n",
            "dense_14 (Dense)             (None, 10)                5840      \n",
            "_________________________________________________________________\n",
            "dense_15 (Dense)             (None, 1)                 11        \n",
            "=================================================================\n",
            "Total params: 5,851\n",
            "Trainable params: 5,851\n",
            "Non-trainable params: 0\n",
            "_________________________________________________________________\n"
          ],
          "name": "stdout"
        }
      ]
    },
    {
      "cell_type": "code",
      "metadata": {
        "id": "MLAx4tUiv-f8",
        "colab_type": "code",
        "colab": {}
      },
      "source": [
        "history = model.fit(x_train_t, y_train,epochs=10,verbose=False,validation_data=(x_validation_t, y_validation),batch_size=50)"
      ],
      "execution_count": 0,
      "outputs": []
    },
    {
      "cell_type": "code",
      "metadata": {
        "id": "0ZEXktaAwp9F",
        "colab_type": "code",
        "colab": {
          "base_uri": "https://localhost:8080/",
          "height": 52
        },
        "outputId": "25eb4be5-56b3-4370-ee40-5e5a5d5940db"
      },
      "source": [
        "loss, accuracy = model.evaluate(x_train_t, y_train, verbose=False)\n",
        "print(\"Training set accuracy : \", accuracy)\n",
        "loss, accuracy = model.evaluate(x_validation_t, y_validation, verbose=False)\n",
        "print(\"Validation set accuracy : \", accuracy)"
      ],
      "execution_count": 217,
      "outputs": [
        {
          "output_type": "stream",
          "text": [
            "Training set accuracy :  0.9609236234458259\n",
            "Validation set accuracy :  0.7647058788467856\n"
          ],
          "name": "stdout"
        }
      ]
    },
    {
      "cell_type": "code",
      "metadata": {
        "id": "4PirLGBqxYmA",
        "colab_type": "code",
        "colab": {}
      },
      "source": [
        "import matplotlib.pyplot as plt\n",
        "plt.style.use('ggplot')\n",
        "\n",
        "def plot_history(history):\n",
        "    acc = history.history['acc']\n",
        "    val_acc = history.history['val_acc']\n",
        "    loss = history.history['loss']\n",
        "    val_loss = history.history['val_loss']\n",
        "    x = range(1, len(acc) + 1)\n",
        "\n",
        "    plt.figure(figsize=(12, 5))\n",
        "    plt.subplot(1, 2, 1)\n",
        "    plt.plot(x, acc, 'b', label='Training acc')\n",
        "    plt.plot(x, val_acc, 'r', label='Validation acc')\n",
        "    plt.title('Training and validation accuracy')\n",
        "    plt.legend()\n",
        "    plt.subplot(1, 2, 2)\n",
        "    plt.plot(x, loss, 'b', label='Training loss')\n",
        "    plt.plot(x, val_loss, 'r', label='Validation loss')\n",
        "    plt.title('Training and validation loss')\n",
        "    plt.legend()"
      ],
      "execution_count": 0,
      "outputs": []
    },
    {
      "cell_type": "code",
      "metadata": {
        "id": "20kepXgdxg6x",
        "colab_type": "code",
        "colab": {
          "base_uri": "https://localhost:8080/",
          "height": 337
        },
        "outputId": "7d178197-977d-4767-c79c-cd4ff634c5ca"
      },
      "source": [
        "plot_history(history)"
      ],
      "execution_count": 218,
      "outputs": [
        {
          "output_type": "display_data",
          "data": {
            "image/png": "[encoded data removed]",
            "text/plain": [
              "<Figure size 864x360 with 2 Axes>"
            ]
          },
          "metadata": {
            "tags": []
          }
        }
      ]
    },
    {
      "cell_type": "code",
      "metadata": {
        "id": "ViRAk37myIxB",
        "colab_type": "code",
        "colab": {
          "base_uri": "https://localhost:8080/",
          "height": 35
        },
        "outputId": "a8a731c9-9e07-4320-bf7e-be57dddf0638"
      },
      "source": [
        "loss, accuracy = model.evaluate(x_test_t, y_test, verbose=False)\n",
        "print(\"Test set accuracy : \", accuracy)"
      ],
      "execution_count": 219,
      "outputs": [
        {
          "output_type": "stream",
          "text": [
            "Test set accuracy :  0.7600000009536744\n"
          ],
          "name": "stdout"
        }
      ]
    },
    {
      "cell_type": "markdown",
      "metadata": {
        "id": "ILV1yuvm1Rmn",
        "colab_type": "text"
      },
      "source": [
        "Okay, so we have something close to but not as good as the classic classifiers. Now we will get the word2vec embeddings. \n",
        "\n",
        "Plan\n",
        "\n",
        "1. Sum the word2vec embeddings for a sentence and feed to LR\n",
        "2. TFIDF weight sum embeddings and feed to LR\n",
        "3. Word2Vec embeddings followed by YoonKim CNN solution"
      ]
    }
  ]
}